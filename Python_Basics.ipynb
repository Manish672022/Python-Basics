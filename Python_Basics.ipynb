{
  "nbformat": 4,
  "nbformat_minor": 0,
  "metadata": {
    "colab": {
      "provenance": []
    },
    "kernelspec": {
      "name": "python3",
      "display_name": "Python 3"
    },
    "language_info": {
      "name": "python"
    }
  },
  "cells": [
    {
      "cell_type": "markdown",
      "source": [
        "# Python Basics"
      ],
      "metadata": {
        "id": "kQY0oXcuCh_5"
      }
    },
    {
      "cell_type": "markdown",
      "source": [
        "# 1. What is Python, and why is it popular?\n",
        " -> Python is a high-level, interpreted, general-purpose programming language. Created by Guido van Rossum in the late 1980s, it's known for its readability and simple syntax, which makes it easier to learn and use compared to some other programming languages.\n",
        "\n",
        " Key Features Contributing to its Popularity:\n",
        "   (i) Easy to Learn and Read.\n",
        "   (ii) Versatile and General-Purpose: Python can be used for a wide range of applications, including:\n",
        "       * Web Development.\n",
        "       * Data Science and Machine Learning.\n",
        "       * Automation and Scripting.\n",
        "       * Software Development.\n",
        "       * Scientific Computing.\n",
        "       * Game Development.\n",
        "   (iii) Large and Active Community.\n",
        "   (iv) Open Source and Free.\n",
        "   (v) Cross-Platform Compatibility.\n",
        "   (vi) Interpreted Language.\n",
        "   (vii) Dynamically Typed.\n",
        "   (viii) Object-Oriented, Procedural, and Functional Programming Support.\n",
        "   (ix) Extensive Standard Library.\n",
        "   (x) Integration with Other Languages.\n",
        "\n",
        "\n",
        "# 2. What is an interpreter in Python?\n",
        "   -> In Python, an interpreter is a program that reads and executes Python code line by line. Unlike compiled languages (like C++ or Java), where the entire source code is first translated into machine code before execution, Python code is executed directly by the interpreter as it encounters each statement.\n",
        "   How it Works:-\n",
        "  (i) Reading: The Python interpreter reads a line of your Python code.\n",
        "  (ii) Parsing: It then analyzes that line to understand its syntax and meaning.\n",
        "  (iii) Execution: If the line is syntactically correct, the interpreter executes the corresponding operation.\n",
        "  (iv) Repeating: This process is repeated for each subsequent line of code until the entire program is executed or an error occurs.  \n",
        "\n",
        "# 3. What are pre-defined keywords in Python?\n",
        "  ->  In Python, pre-defined keywords are special words that have a specific meaning and purpose within the language's syntax. These keywords cannot be used as identifiers (names for variables, functions, classes, etc.) because the interpreter reserves them for its internal operations.\n",
        "  Think of them as the building blocks of the Python language, defining its structure and functionality.\n",
        "\n",
        "  Here is a list of the pre-defined keywords in Python.\n",
        "\n",
        "  False      await      else       import     pass\n",
        "  None       break      except     in         raise\n",
        "  True       class      finally    is         return\n",
        "  and        continue   for        lambda     try\n",
        "  as         def        from       nonlocal   while\n",
        "  assert     del        global     not        with\n",
        "  async      elif       if         or         yield  \n",
        "\n",
        " Explanation of Some Common Keywords:\n",
        "\n",
        "* True, False, None: Boolean values and a special singleton object representing the absence of a value.\n",
        "* and, or, not: Logical operators for combining or negating boolean expressions.\n",
        "* if, elif, else: Conditional statements for controlling the flow of execution based on conditions.\n",
        "* for, while: Loop constructs for iterating over sequences or executing blocks of code repeatedly.\n",
        "* def: Used to define a function.\n",
        "* class: Used to define a class.\n",
        "* return: Used within a function to return a value.\n",
        "* import, from: Used to bring modules or specific names from modules into the current scope.\n",
        "* try, except, finally: Used for exception handling to gracefully manage errors.\n",
        "* with: Used with context managers to ensure resources are properly managed.\n",
        "as: Used to create an alias when importing modules or handling exceptions.\n",
        "* break: Used to exit a loop prematurely.\n",
        "* continue: Used to skip the rest of the current iteration of a loop and move to the next.\n",
        "* pass: A null operation; it does nothing. Often used as a placeholder where a statement is syntactically required but no action is needed yet.\n",
        "* assert: Used for debugging to check if a condition is true; if not, it raises an AssertionError.\n",
        "* del: Used to delete references to objects.\n",
        "* global: Used to declare that a variable inside a function refers to the global variable outside the function.\n",
        "* nonlocal: Used in nested functions to refer to a variable in the nearest enclosing scope that is not the global scope.\n",
        "* lambda: Used to create anonymous (unnamed) functions.\n",
        "* yield: Used in generator functions to produce a sequence of values iteratively.\n",
        "* await, async: Used for asynchronous programming.\n",
        "\n",
        "# 4. Can keywords be used as variable names?\n",
        "-> No, keywords cannot be used as variable names in Python.\n",
        "   Python reserves these keywords for its own internal structure and syntax. If you try to assign a value to a keyword or use a keyword as the name of a function, class, or any other identifier, the Python interpreter will raise a Syntax Error.\n",
        "\n",
        "# 5. What is mutability in Python?\n",
        "-> Mutability in Python refers to the ability of an object to be changed after it is created. In simpler terms, if an object is mutable, you can modify its internal state (its values or contents) without creating a completely new object. If an object is immutable, its state cannot be changed after creation. Any operation that appears to modify an immutable object actually creates a new object with the updated value.\n",
        "\n",
        " Objects of mutable types can be modified in place. Some common mutable built-in types in Python include:\n",
        " * Lists (list): You can add, remove, or modify elements within a list.\n",
        " * Dictionaries (dict): You can add, remove, or modify key-value pairs in a\n",
        "   dictionary.\n",
        " * Sets (set): You can add or remove elements from a set.\n",
        " * Bytearrays (bytearray): Similar to bytes but mutable.\n",
        " * User-defined objects (instances of classes): By default, the attributes of  \n",
        "   an object can be changed.\n",
        "\n",
        "# 6. What is the difference between “==” and “is” operators in Python?\n",
        "-> In Python, both == and is are comparison operators, but they serve fundamentally different purposes.\n",
        " \"==\" Equality Operator:-\n",
        " * Purpose: The \"==\" operator checks if the values of two operands are equal.\n",
        " * Comparison: It compares the content or the state of the objects being compared.\n",
        " * Customization: The behavior of == can be customized for user-defined classes. This allows you to define what it means for two instances of your class to be considered \"equal\" based on their attributes.\n",
        " * Common Use Cases: You'll use \"==\" most of the time when you want to know if two variables hold the same value, regardless of whether they are the exact same object in memory.\n",
        "\n",
        " \"is\" Identity Operator:-\n",
        " * Purpose: The is operator checks if two operands refer to the exact same object in memory.\n",
        " * Comparison: It compares the memory addresses of the objects. Two variables are is equal only if they point to the same memory location.\n",
        " * No Customization (Direct Memory Comparison): The behavior of is cannot be customized. It always performs a direct comparison of object identities.\n",
        " * Common Use Cases: is is typically used for:\n",
        "Checking for None: The canonical way to check if a variable is None is variable is None (or variable is not None). None is a singleton object, meaning there's only one instance of it in memory.\n",
        "Checking for the same object identity: In specific scenarios where you need to ensure that two variables are not just equal in value but are actually references to the same object. This can be important for understanding object sharing and potential side effects of modifications to mutable objects.\n",
        "\n",
        "# 7. What are logical operators in Python?\n",
        "-> In Python, logical operators are used to combine or modify boolean (True or False) values. They allow you to create more complex conditions in your code. Python has three main logical operators:\n",
        "\n",
        "  (I) and (Logical AND)\n",
        "  (II) or (Logical OR)\n",
        "  (III) not (Logical NOT)\n",
        " Let's explore each of them in detail:\n",
        "\n",
        "  (I) and (Logical AND):-\n",
        " * The and operator returns True if both operands are True. Otherwise, it returns False.\n",
        " * Think of it as \"this and that must be true\".\n",
        "\n",
        "  Truth Table for and:-\n",
        "   O1    O2    Result (O1 and o2)\n",
        "  True\tTrue\t= True\n",
        "  True\tFalse\t= False\n",
        "  False\tTrue\t= False\n",
        "  False\tFalse\t= False\n",
        "\n",
        "(II) or (Logical OR):-\n",
        " * The or operator returns True if at least one of the operands is True. It returns False only if both operands are False.\n",
        " * Think of it as \"this or that must be true\".\n",
        "\n",
        "  Truth Table for or:-\n",
        "   O1    O2     Result(O1 or O2)\n",
        " True\t  True\t=  True\n",
        " True\t  False\t=  True\n",
        " False\tTrue\t=  True\n",
        " False\tFalse\t=  False\n",
        "\n",
        " (III) not (Logical NOT):-\n",
        "* The not operator is a unary operator, meaning it operates on a single operand.\n",
        "* It returns the opposite boolean value of its operand. If the operand is True, not returns False, and if the operand is False, not returns True.\n",
        "* Think of it as \"the negation of this\".\n",
        "\n",
        "Truth Table for not:-\n",
        "Operand\tResult (not Operand)\n",
        "True\t False\n",
        "False\t True\n",
        "\n",
        "# 8. What is type casting in PythoN?\n",
        "-> Type casting in Python, also known as type conversion, is the process of changing an object from one data type to another. Python is a dynamically-typed language, which means you don't explicitly declare the data type of a variable. However, there are situations where you need to convert a value from one type to another to perform certain operations or meet specific requirements.\n",
        "\n",
        "Python provides built-in functions to perform type casting. Here are some of the most commonly used ones:-\n",
        "(I) int():Converts a value to an integer.\n",
        " * From numbers: If you pass a float, it will truncate the decimal part.\n",
        " * From strings: If you pass a string, it must represent a valid integer (optionally with a leading sign).\n",
        " * From other types: The behavior depends on the type; some might raise a Type Error.\n",
        "(II) float():Converts a value to a floating-point number.\n",
        " * From integers: It will add a decimal part (e.g., 5 becomes 5.0).\n",
        " * From strings: The string must represent a valid floating-point number (optionally with a sign and decimal).\n",
        " * From other types: Behavior depends on the type.\n",
        "(III) str():Converts a value to a string.\n",
        " * This function can convert almost any Python object into its string representation.\n",
        "(IV) bool():Converts a value to a boolean (True or False).\n",
        "(V) list(), tuple(), set():Convert to list, tuple, and set respectively.\n",
        " * These can be used to convert iterable objects (like strings, lists, tuples, sets, dictionaries, and ranges) into the desired collection type.\n",
        "# 9. What is the difference between implicit and explicit type casting?\n",
        "-> The fundamental difference between implicit and explicit type casting (or type conversion) in Python lies in who performs the conversion: the Python interpreter or the programmer.\n",
        "  Here's a breakdown of each:\n",
        "  Implicit Type Casting (Coercion):-\n",
        "\n",
        " * Performed by: The Python interpreter automatically.\n",
        " * When it happens: During certain operations when the interpreter detects that the operands of an operator are of incompatible types, but it can safely\n",
        " convert one type to another without losing information or causing errors.\n",
        " * Goal: To make the operation compatible between the operands.\n",
        " * Programmer involvement: The programmer does not explicitly write any code to perform the conversion. The interpreter handles it behind the scenes.\n",
        " * Safety: Generally considered safe as Python usually promotes a less precise type to a more precise type to avoid data loss.\n",
        "\n",
        " # 10. What is the purpose of conditional statements in Python?\n",
        " -> The purpose of conditional statements in Python is to control the flow of execution of a program based on whether certain conditions are true or false. They allow your program to make decisions and execute different blocks of code depending on the circumstances.\n",
        "  Here's a breakdown of why they are essential:-\n",
        "   * Decision Making.\n",
        "   * Flexibility.\n",
        "   * Control Flow.\n",
        "   * Implementing Logic.\n",
        "   * Error Handling.\n",
        "  \n",
        "  In Python, the primary conditional statements are:\n",
        "\n",
        "if statement:- Executes a block of code if a specified condition is true.\n",
        "else statement:- Executes a block of code if the condition in the preceding if statement is false.\n",
        "elif statement:- (short for \"else if\") Allows you to check multiple conditions in sequence. It executes a block of code if its condition is true, and if the preceding if or elif conditions were false.\n",
        "\n",
        "# 11. How does the elif statement work?\n",
        "-> The elif statement in Python, short for \"else if\", provides a way to check multiple conditions sequentially in an if...elif...else block. Here's how it works:\n",
        "\n",
        "Evaluation Order: When an if statement is encountered, its condition is evaluated first.\n",
        "if Condition True: If the if condition is True, the code block under that if statement is executed, and the rest of the elif and else blocks are skipped entirely.\n",
        "if Condition False, elif Evaluation: If the if condition is False, Python moves on to the first elif statement and evaluates its condition.\n",
        "elif Condition True: If the elif condition is True, the code block under that elif statement is executed, and the remaining elif and else blocks are skipped.\n",
        "Multiple elif Statements: You can have multiple elif statements following an if statement. Each elif condition is evaluated in order only if the preceding if or elif conditions were False.\n",
        "elif Condition False: If an elif condition is False, Python proceeds to the next elif statement (if any) or the else block (if present).\n",
        "else as a Catch-All (Optional): The optional else block at the end of the if...elif...else structure is executed only if none of the preceding if or elif conditions were True.\n",
        "First True Condition Wins: Once a condition (if or any elif) evaluates to True, its corresponding code block is executed, and the entire if...elif...else block is exited. Only one block of code within the structure will ever be executed.\n",
        "\n",
        "# 12. What is the difference between for and while loops?\n",
        "-> The primary difference between for and while loops in Python lies in how they control the iteration and when they are typically used.\n",
        "\n",
        "Here's a breakdown of their key distinctions:-\n",
        "\n",
        " for Loop:-\n",
        "\n",
        "* Iteration over a sequence:- for loops are designed to iterate over a sequence (like a list, tuple, string, range, dictionary, or other iterable objects).\n",
        "* Automatic iteration control:- The for loop automatically handles the iteration process. It fetches each item from the sequence one by one and executes the code block for each item. You don't need to explicitly manage the loop counter or the condition for stopping.\n",
        "* Known number of iterations (generally):- Typically used when you know in advance how many times you need to execute the loop.\n",
        "\n",
        " while Loop:-\n",
        "\n",
        "* Iteration based on a condition:- while loops continue to execute their code block as long as a specified condition remains True.\n",
        "* Manual iteration control:- You are responsible for managing the condition that controls the loop. This usually involves initializing a variable before the loop and modifying it within the loop's body to eventually make the condition False, thus terminating the loop.\n",
        "* Unknown number of iterations (potentially):- Often used when you don't know beforehand how many times the loop needs to run. The loop continues until a certain condition is met.\n",
        "\n",
        "Here's a table summarizing the key differences:-\n",
        "\n",
        "Feature \t                for Loop\t                    while Loop\n",
        "\n",
        "Iteration       \tOver a sequence (iterable)\t  Based on a condition being True\n",
        "Control\t          Automatic\t                    Manual\n",
        "\n",
        "Use Cases\t        Iterating through collections,                            \n",
        "                  fixed iterations\t            Repeating until a certain\n",
        "                                                condition is met\n",
        "Iteration Count\t  Generally known in advance\t  Potentially unknown in advance\n",
        "\n",
        "Risk of Infinite\n",
        "Loop\t           Lower\t                        Higher (if the condition\n",
        "                                                 never becomes False)\n",
        "\n",
        "\n",
        "# 13. Describe a scenario where a while loop is more suitable than a for loop.\n",
        "-> A scenario where a while loop is more suitable than a for loop is when you need to repeat a block of code until a specific condition is met, but you don't know in advance how many iterations will be required. The loop continues as long as the condition remains True.\n",
        "\n",
        "Here's a concrete example: Reading user input until a specific keyword is entered.Imagine you are writing a program that prompts the user to enter words, and the program should stop accepting input only when the user types the word \"quit\". You don't know how many words the user will enter before typing \"quit\".\n"
      ],
      "metadata": {
        "id": "LNMHJzYLCv0U"
      }
    },
    {
      "cell_type": "markdown",
      "source": [
        "# Practical Questions.\n"
      ],
      "metadata": {
        "id": "ICzqXTkyJ3GO"
      }
    },
    {
      "source": [
        "# 1. Write a Python program to print \"Hello, World!\"\n",
        "print(\"Hello, World\")"
      ],
      "cell_type": "code",
      "metadata": {
        "colab": {
          "base_uri": "https://localhost:8080/"
        },
        "id": "APmDD0uGL_6o",
        "outputId": "4e7b6399-2da1-4670-994c-5b33b057f704"
      },
      "execution_count": null,
      "outputs": [
        {
          "output_type": "stream",
          "name": "stdout",
          "text": [
            "Hello, World\n"
          ]
        }
      ]
    },
    {
      "cell_type": "code",
      "source": [
        "# 2. Write a Python program that displays your name and age.\n",
        "name = (\"Manish\")\n",
        "age = (\"30\")\n",
        "print(name)\n",
        "print(age)\n"
      ],
      "metadata": {
        "colab": {
          "base_uri": "https://localhost:8080/"
        },
        "id": "JaSif9cwMSL1",
        "outputId": "c5ebe13c-aaac-4b48-d9e5-9f5044e91cfa"
      },
      "execution_count": null,
      "outputs": [
        {
          "output_type": "stream",
          "name": "stdout",
          "text": [
            "Manish\n",
            "30\n"
          ]
        }
      ]
    },
    {
      "source": [
        "# 3. Write code to print all the pre-defined keywords in Python using the keyword library.\n",
        "\n",
        "import keyword\n",
        "\n",
        "# Get the list of all keywords\n",
        "all_keywords = keyword.kwlist\n",
        "\n",
        "# Print the keywords\n",
        "print(\"Pre-defined keywords in Python:\")\n",
        "for kw in all_keywords:\n",
        "    print(kw)"
      ],
      "cell_type": "code",
      "metadata": {
        "colab": {
          "base_uri": "https://localhost:8080/"
        },
        "id": "AxrOY3qDOV-s",
        "outputId": "4d9874c9-c761-4cf2-95d1-c0cad63c366c"
      },
      "execution_count": null,
      "outputs": [
        {
          "output_type": "stream",
          "name": "stdout",
          "text": [
            "Pre-defined keywords in Python:\n",
            "False\n",
            "None\n",
            "True\n",
            "and\n",
            "as\n",
            "assert\n",
            "async\n",
            "await\n",
            "break\n",
            "class\n",
            "continue\n",
            "def\n",
            "del\n",
            "elif\n",
            "else\n",
            "except\n",
            "finally\n",
            "for\n",
            "from\n",
            "global\n",
            "if\n",
            "import\n",
            "in\n",
            "is\n",
            "lambda\n",
            "nonlocal\n",
            "not\n",
            "or\n",
            "pass\n",
            "raise\n",
            "return\n",
            "try\n",
            "while\n",
            "with\n",
            "yield\n"
          ]
        }
      ]
    },
    {
      "cell_type": "code",
      "source": [
        "# 4. Write a program that checks if a given word is a Python keyword.\n"
      ],
      "metadata": {
        "id": "O94_9-wZPaV1"
      },
      "execution_count": null,
      "outputs": []
    },
    {
      "source": [
        "# 5. Create a list and tuple in Python, and demonstrate how attempting to change an element works differently for each.\n",
        "\n",
        "# Create a list\n",
        "my_list = [1, 2, 3]\n",
        "\n",
        "# Create a tuple\n",
        "my_tuple = (1, 2, 3)\n",
        "\n",
        "# Attempt to change an element in the list\n",
        "my_list[0] = 10\n",
        "\n",
        "# Attempt to change an element in the tuple\n",
        "# my_tuple[0] = 10\n",
        "\n",
        "# Print the list and tuple\n",
        "print(\"List:\", my_list)\n",
        "print(\"Tuple:\", my_tuple)"
      ],
      "cell_type": "code",
      "metadata": {
        "colab": {
          "base_uri": "https://localhost:8080/"
        },
        "id": "vlifCM38VAlM",
        "outputId": "a2305f58-a835-4125-fa85-21e6eab7c3d0"
      },
      "execution_count": null,
      "outputs": [
        {
          "output_type": "stream",
          "name": "stdout",
          "text": [
            "List: [10, 2, 3]\n",
            "Tuple: (1, 2, 3)\n"
          ]
        }
      ]
    },
    {
      "cell_type": "code",
      "source": [],
      "metadata": {
        "id": "1G5La8M_V2q1"
      },
      "execution_count": null,
      "outputs": []
    },
    {
      "source": [
        "# 6. Write a function to demonstrate the behavior of mutable and immutable arguments.\n",
        "\n",
        "def modify_arguments(number, my_list):\n",
        "  \"\"\"Demonstrates the behavior of mutable and immutable arguments.\n",
        "\n",
        "  Args:\n",
        "    number: An integer (immutable).\n",
        "    my_list: A list (mutable).\n",
        "  \"\"\"\n",
        "  number += 1\n",
        "  my_list.append(4)\n",
        "  print(\"Inside function:\")\n",
        "  print(\"number:\", number)\n",
        "  print(\"my_list:\", my_list)\n",
        "\n",
        "\n",
        "# Call the function\n",
        "num = 10\n",
        "my_list = [1, 2, 3]\n",
        "modify_arguments(num, my_list)\n",
        "\n",
        "print(\"\\nOutside function:\")\n",
        "print(\"num:\", num)\n",
        "print(\"my_list:\", my_list)"
      ],
      "cell_type": "code",
      "metadata": {
        "colab": {
          "base_uri": "https://localhost:8080/"
        },
        "id": "AnH1DVAnWDj3",
        "outputId": "0e271150-a206-4a14-b92c-0316399a456f"
      },
      "execution_count": null,
      "outputs": [
        {
          "output_type": "stream",
          "name": "stdout",
          "text": [
            "Inside function:\n",
            "number: 11\n",
            "my_list: [1, 2, 3, 4]\n",
            "\n",
            "Outside function:\n",
            "num: 10\n",
            "my_list: [1, 2, 3, 4]\n"
          ]
        }
      ]
    },
    {
      "cell_type": "code",
      "source": [
        "# 7. Write a program to demonstrate the use of logical operators."
      ],
      "metadata": {
        "id": "Cihk_CAHXO1X"
      },
      "execution_count": null,
      "outputs": []
    },
    {
      "source": [
        "# 8. Write code to demonstrate type casting with list elements.\n",
        "def demonstrate_list_type_casting():\n",
        "    \"\"\"Demonstrates type casting with list elements.\"\"\"\n",
        "\n",
        "    # Original list with mixed data types\n",
        "    my_list = [10, \"25\", 30.5, \"True\"]\n",
        "    print(\"Original list:\", my_list)\n",
        "\n",
        "    # Type casting elements to integers\n",
        "    integers = [int(x) for x in my_list if str(x).isdigit()]\n",
        "    print(\"Integers:\", integers)\n",
        "\n",
        "    # Type casting elements to floats\n",
        "    floats = [float(x) for x in my_list if isinstance(x,(int, float, str)) and str(x).replace('.', '', 1).isdigit() ]\n",
        "    print(\"Floats:\", floats)\n",
        "\n",
        "    # Type casting elements to booleans\n",
        "    booleans = [bool(x) for x in my_list if isinstance(x, (bool,str)) and str(x).lower() in (\"true\", \"false\", \"1\", \"0\")]\n",
        "    print(\"Booleans:\", booleans)\n",
        "\n",
        "    #Type casting elements to strings\n",
        "    strings = [str(x) for x in my_list]\n",
        "    print(\"Strings:\", strings)\n",
        "\n",
        "\n",
        "# Call the function to demonstrate type casting\n",
        "demonstrate_list_type_casting()"
      ],
      "cell_type": "code",
      "metadata": {
        "colab": {
          "base_uri": "https://localhost:8080/"
        },
        "id": "MWprfc0RU3ER",
        "outputId": "f7447feb-3acd-49ba-da45-ff1fd7553340"
      },
      "execution_count": null,
      "outputs": [
        {
          "output_type": "stream",
          "name": "stdout",
          "text": [
            "Original list: [10, '25', 30.5, 'True']\n",
            "Integers: [10, 25]\n",
            "Floats: [10.0, 25.0, 30.5]\n",
            "Booleans: [True]\n",
            "Strings: ['10', '25', '30.5', 'True']\n"
          ]
        }
      ]
    },
    {
      "cell_type": "code",
      "source": [],
      "metadata": {
        "id": "PLydcIgIVUs5"
      },
      "execution_count": null,
      "outputs": []
    },
    {
      "source": [
        "# 12.  Write a for loop to print numbers from 1 to 10.\n",
        "\n",
        "# Using range(1, 11) to generate numbers from 1 to 10 (inclusive)\n",
        "for i in range(1, 11):\n",
        "    print(i)"
      ],
      "cell_type": "code",
      "metadata": {
        "colab": {
          "base_uri": "https://localhost:8080/"
        },
        "id": "BoiIL2wPWPW_",
        "outputId": "d5f4a37b-ef52-4f28-d152-370f201c95cd"
      },
      "execution_count": null,
      "outputs": [
        {
          "output_type": "stream",
          "name": "stdout",
          "text": [
            "1\n",
            "2\n",
            "3\n",
            "4\n",
            "5\n",
            "6\n",
            "7\n",
            "8\n",
            "9\n",
            "10\n"
          ]
        }
      ]
    },
    {
      "cell_type": "code",
      "source": [
        "# 13. Write a program to reverse a string using a while loop.\n"
      ],
      "metadata": {
        "id": "jWgSm61yWeKo"
      },
      "execution_count": null,
      "outputs": []
    }
  ]
}